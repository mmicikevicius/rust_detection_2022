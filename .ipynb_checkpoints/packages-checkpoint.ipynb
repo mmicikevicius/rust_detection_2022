{
 "cells": [
  {
   "cell_type": "code",
   "execution_count": null,
   "id": "fb77020e-20ca-4a28-916e-c55daddb75b9",
   "metadata": {},
   "outputs": [],
   "source": [
    "!pip install numpy\n",
    "!pip install os\n",
    "!pip install matplotlib\n",
    "!pip install skimage\n",
    "!pip install cv2\n",
    "!pip install tensorflow\n",
    "!pip install keras\n",
    "!pip install segmentation_models\n",
    "!pip install sklearn\n",
    "!pip install pathlib\n",
    "!pip install albumentations\n",
    "!pip install imageio\n",
    "!pip install math"
   ]
  }
 ],
 "metadata": {
  "kernelspec": {
   "display_name": "Python 3 (ipykernel)",
   "language": "python",
   "name": "python3"
  },
  "language_info": {
   "codemirror_mode": {
    "name": "ipython",
    "version": 3
   },
   "file_extension": ".py",
   "mimetype": "text/x-python",
   "name": "python",
   "nbconvert_exporter": "python",
   "pygments_lexer": "ipython3",
   "version": "3.8.15"
  }
 },
 "nbformat": 4,
 "nbformat_minor": 5
}
