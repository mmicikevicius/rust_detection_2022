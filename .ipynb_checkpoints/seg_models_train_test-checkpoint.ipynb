{
 "cells": [
  {
   "cell_type": "code",
   "execution_count": null,
   "id": "e5b3c791",
   "metadata": {},
   "outputs": [],
   "source": [
    "# import pandas as pd\n",
    "import numpy as np\n",
    "import os\n",
    "\n",
    "import matplotlib.pyplot as plt\n",
    "%matplotlib inline\n",
    "\n",
    "# from skimage.io import imreaad, imshow\n",
    "from skimage.transform import resize\n",
    "import skimage.io\n",
    "import cv2\n",
    "\n",
    "import tensorflow as tf\n",
    "\n",
    "# Don't Show Warning Messages\n",
    "import warnings\n",
    "warnings.filterwarnings('ignore')\n",
    "\n",
    "from keras.callbacks import ModelCheckpoint"
   ]
  },
  {
   "cell_type": "code",
   "execution_count": null,
   "id": "aa6602e8",
   "metadata": {},
   "outputs": [],
   "source": [
    "def get_file_list(src_dst):\n",
    "\n",
    "    file_list = os.listdir(src_dst)\n",
    "    file_list.sort()\n",
    "    return file_list\n",
    "\n",
    "def binary_mask(x):\n",
    "    x = np.where(x >= 180, 255, x)\n",
    "    x = np.where(x < 180, 0, x)\n",
    "    return x.astype(dtype=np.uint8)\n",
    "\n",
    "def binary_mask_test(x):\n",
    "    x = np.where(x == 1, 255, x)\n",
    "    x = np.where(x == 0, 0, x)\n",
    "    return x.astype(dtype=np.uint8)\n",
    "\n",
    "def binary_mask_recode(x):\n",
    "    x = np.where(x < 180, 0, x)\n",
    "    x = np.where(x >= 180, 255, x)\n",
    "    return x.astype(dtype=np.uint8)\n",
    "\n",
    "def recode_before_train(x):\n",
    "    x = np.where(x == 255, 1, 0)\n",
    "    # x = np.where(x == 0, x)\n",
    "    return x.astype(dtype=np.float32)"
   ]
  },
  {
   "cell_type": "code",
   "execution_count": null,
   "id": "c068abeb",
   "metadata": {},
   "outputs": [],
   "source": [
    "IMG_HEIGHT = 256\n",
    "IMG_WIDTH = 256\n",
    "IMG_CHANNELS = 3"
   ]
  },
  {
   "cell_type": "code",
   "execution_count": null,
   "id": "8dc79aea",
   "metadata": {},
   "outputs": [],
   "source": [
    "# Get lists of images and their masks\n",
    "image_id_list = get_file_list('images/train_augmented/image/')\n",
    "mask_id_list = get_file_list('images/train_augmented/label/')\n",
    "test_id_list = get_file_list('images/test/image/')[1:]\n",
    "test_mask_id_list = get_file_list('images/test/label/')[1:]\n",
    "valid_id_list = get_file_list('images/validation/image/')[1:]\n",
    "valid_mask_id_list = get_file_list('images/validation/label/')[1:]"
   ]
  },
  {
   "cell_type": "code",
   "execution_count": null,
   "id": "6f77788a",
   "metadata": {},
   "outputs": [],
   "source": [
    "# Create empty arrays\n",
    "\n",
    "X_train = np.zeros((len(image_id_list), IMG_HEIGHT, IMG_WIDTH, IMG_CHANNELS), dtype=np.uint8)\n",
    "\n",
    "Y_train = np.zeros((len(mask_id_list), IMG_HEIGHT, IMG_WIDTH, 1), dtype=np.float32)\n",
    "\n",
    "X_test = np.zeros((len(test_id_list), IMG_HEIGHT, IMG_WIDTH, IMG_CHANNELS), dtype=np.uint8)\n",
    "\n",
    "Y_test = np.zeros((len(test_mask_id_list), IMG_HEIGHT, IMG_WIDTH, 1), dtype=np.float32)\n",
    "\n",
    "X_valid = np.zeros((len(valid_id_list), IMG_HEIGHT, IMG_WIDTH, IMG_CHANNELS), dtype=np.uint8)\n",
    "\n",
    "Y_valid = np.zeros((len(valid_mask_id_list), IMG_HEIGHT, IMG_WIDTH, 1), dtype=np.float32)"
   ]
  },
  {
   "cell_type": "code",
   "execution_count": null,
   "id": "43ad98d3",
   "metadata": {},
   "outputs": [],
   "source": [
    "# X_train\n",
    "\n",
    "\n",
    "for i, image_id in enumerate(image_id_list):\n",
    "    \n",
    "    path_image = 'images/train_augmented/image/' + image_id\n",
    "    \n",
    "    # read the image using skimage\n",
    "    image = skimage.io.imread(path_image)\n",
    "    \n",
    "    # resize the image\n",
    "    image = resize(image, (IMG_HEIGHT, IMG_WIDTH), mode='constant', preserve_range=True)\n",
    "    \n",
    "    # insert the image into X_train\n",
    "    X_train[i] = image\n",
    "    \n",
    "X_train.shape"
   ]
  },
  {
   "cell_type": "code",
   "execution_count": null,
   "id": "ce5cf5a1",
   "metadata": {},
   "outputs": [],
   "source": [
    "# Y_train\n",
    "\n",
    "\n",
    "for i, mask_id in enumerate(mask_id_list):\n",
    "    \n",
    "    path_mask = 'images/train_augmented/label/' + mask_id\n",
    "    \n",
    "    # read the image using skimage\n",
    "    mask = skimage.io.imread(path_mask)\n",
    "    \n",
    "    # resize the image\n",
    "    mask = resize(mask, (IMG_HEIGHT, IMG_WIDTH), mode='constant', preserve_range=True)\n",
    "    mask = binary_mask(mask)\n",
    "    \n",
    "    # use np.expand dims to add a channel axis so the shape becomes (IMG_HEIGHT, IMG_WIDTH, 1)\n",
    "    mask = np.expand_dims(mask, axis=-1)\n",
    "    \n",
    "    # insert the image into Y_Train\n",
    "    Y_train[i] = mask\n",
    "\n",
    "Y_train.shape"
   ]
  },
  {
   "cell_type": "code",
   "execution_count": null,
   "id": "a18e48ef",
   "metadata": {},
   "outputs": [],
   "source": [
    "# X_test\n",
    "\n",
    "for i, image_id in enumerate(test_id_list):\n",
    "    \n",
    "    path_image = 'images/test/image/' + image_id\n",
    "    \n",
    "    # read the image using skimage\n",
    "    image = skimage.io.imread(path_image)\n",
    "    \n",
    "    # resize the imagea\n",
    "    image = resize(image, (IMG_HEIGHT, IMG_WIDTH), mode='constant', preserve_range=True)\n",
    "    \n",
    "    # insert the image into X_test\n",
    "    X_test[i] = image\n",
    "    \n",
    "X_test.shape"
   ]
  },
  {
   "cell_type": "code",
   "execution_count": null,
   "id": "01fb5302",
   "metadata": {},
   "outputs": [],
   "source": [
    "# Y_test\n",
    "\n",
    "\n",
    "for i, mask_id in enumerate(test_mask_id_list):\n",
    "    \n",
    "    path_mask = 'images/test/label/' + mask_id\n",
    "    \n",
    "    # read the image using skimage\n",
    "    mask = skimage.io.imread(path_mask)\n",
    "    \n",
    "    # resize the image\n",
    "    mask = resize(mask, (IMG_HEIGHT, IMG_WIDTH), mode='constant', preserve_range=True)\n",
    "    mask = binary_mask_recode(mask)\n",
    "    \n",
    "    # use np.expand dims to add a channel axis so the shape becomes (IMG_HEIGHT, IMG_WIDTH, 1)\n",
    "    mask = np.expand_dims(mask, axis=-1)\n",
    "    \n",
    "    # insert the image into Y_test\n",
    "    Y_test[i] = mask\n",
    "\n",
    "Y_test.shape"
   ]
  },
  {
   "cell_type": "code",
   "execution_count": null,
   "id": "638648f1-d4f6-45ce-b1a6-ac32135f2da4",
   "metadata": {},
   "outputs": [],
   "source": [
    "# X_valid\n",
    "\n",
    "for i, image_id in enumerate(valid_id_list):\n",
    "    \n",
    "    path_image = 'images/validation/image/' + image_id\n",
    "    \n",
    "    # read the image using skimage\n",
    "    image = skimage.io.imread(path_image)\n",
    "    \n",
    "    # resize the imagea\n",
    "    image = resize(image, (IMG_HEIGHT, IMG_WIDTH), mode='constant', preserve_range=True)\n",
    "    \n",
    "    # insert the image into X_valid\n",
    "    X_valid[i] = image\n",
    "    \n",
    "X_valid.shape"
   ]
  },
  {
   "cell_type": "code",
   "execution_count": null,
   "id": "f7e0e1fc-6c54-4ece-94ca-b76f58d7e800",
   "metadata": {},
   "outputs": [],
   "source": [
    "# Y_valid\n",
    "\n",
    "for i, mask_id in enumerate(valid_mask_id_list):\n",
    "    \n",
    "    path_mask = 'images/validation/label/' + mask_id\n",
    "    \n",
    "    # read the image using skimage\n",
    "    mask = skimage.io.imread(path_mask)\n",
    "    \n",
    "    # resize the image\n",
    "    mask = resize(mask, (IMG_HEIGHT, IMG_WIDTH), mode='constant', preserve_range=True)\n",
    "    mask = binary_mask_recode(mask)\n",
    "    \n",
    "    # use np.expand dims to add a channel axis so the shape becomes (IMG_HEIGHT, IMG_WIDTH, 1)\n",
    "    mask = np.expand_dims(mask, axis=-1)\n",
    "    \n",
    "    # insert the image into Y_test\n",
    "    Y_valid[i] = mask\n",
    "\n",
    "Y_valid.shape"
   ]
  },
  {
   "cell_type": "code",
   "execution_count": null,
   "id": "43c64691",
   "metadata": {},
   "outputs": [],
   "source": [
    "%env SM_FRAMEWORK=tf.keras"
   ]
  },
  {
   "cell_type": "code",
   "execution_count": null,
   "id": "f65ffcd3",
   "metadata": {},
   "outputs": [],
   "source": [
    "import keras\n",
    "import segmentation_models as sm"
   ]
  },
  {
   "cell_type": "code",
   "execution_count": null,
   "id": "a5c5746e",
   "metadata": {},
   "outputs": [],
   "source": [
    "keras.backend.set_image_data_format('channels_last')"
   ]
  },
  {
   "cell_type": "code",
   "execution_count": null,
   "id": "081cee7a",
   "metadata": {},
   "outputs": [],
   "source": [
    "model = sm.Linknet('inceptionv3', classes=1, activation='sigmoid')\n",
    "# model = sm.Unet('vgg16', classes=1, activation='sigmoid')\n",
    "# model = sm.FPN('resnet18', classes=1, activation='sigmoid')\n",
    "# model = sm.PSPNet('efficientnetb3', classes=1, activation='sigmoid')"
   ]
  },
  {
   "cell_type": "code",
   "execution_count": null,
   "id": "9d859476",
   "metadata": {},
   "outputs": [],
   "source": [
    "BACKBONE = 'inceptionv3'\n",
    "# BACKBONE = 'vgg16'\n",
    "# BACKBONE = 'resnet18'\n",
    "# BACKBONE = 'efficientnetb3'\n",
    "preprocess_input = sm.get_preprocessing(BACKBONE)\n",
    "\n",
    "X_train = preprocess_input(X_train)\n",
    "X_test = preprocess_input(X_test)"
   ]
  },
  {
   "cell_type": "code",
   "execution_count": null,
   "id": "0c148deb",
   "metadata": {},
   "outputs": [],
   "source": [
    "Y_train = recode_before_train(Y_train)\n",
    "Y_test = recode_before_train(Y_test)"
   ]
  },
  {
   "cell_type": "code",
   "execution_count": null,
   "id": "002f2881",
   "metadata": {},
   "outputs": [],
   "source": [
    "# define model\n",
    "model.compile(\n",
    "    'Adam',\n",
    "    loss='binary_crossentropy',\n",
    "    metrics=['accuracy']\n",
    ")\n",
    "\n",
    "filepath = \"test_model.h5\"\n",
    "\n",
    "checkpoint = ModelCheckpoint(filepath, monitor='val_loss', verbose=1, \n",
    "                             save_best_only=True, mode='min')\n",
    "callbacks_list = [checkpoint]\n",
    "\n",
    "# fit model\n",
    "model.fit(\n",
    "   x=X_train,\n",
    "   y=Y_train,\n",
    "   epochs=1,\n",
    "   validation_data=(X_valid, Y_valid),\n",
    "   callbacks=callbacks_list\n",
    ")"
   ]
  },
  {
   "cell_type": "code",
   "execution_count": null,
   "id": "6649df36",
   "metadata": {},
   "outputs": [],
   "source": [
    "# model.save_weights('all_models_linknet18.h5')"
   ]
  },
  {
   "cell_type": "code",
   "execution_count": null,
   "id": "f838fa57",
   "metadata": {},
   "outputs": [],
   "source": [
    "# use the best epoch\n",
    "model.load_weights('test_model.h5')"
   ]
  },
  {
   "cell_type": "code",
   "execution_count": null,
   "id": "61d0d86a",
   "metadata": {},
   "outputs": [],
   "source": [
    "# Threshold the predictions\n",
    "test_preds = model.predict(X_test)\n",
    "preds_test_thresh = (test_preds >= 0.5).astype(np.uint8)\n",
    "pred_img = binary_mask_test(preds_test_thresh)"
   ]
  },
  {
   "cell_type": "code",
   "execution_count": null,
   "id": "afe17cbb",
   "metadata": {},
   "outputs": [],
   "source": [
    "# Display a predicted segmentation\n",
    "img = 6\n",
    "test_img = Y_test[img, :, :, 0]\n",
    "test_mask = pred_img[img, :, :, 0]\n",
    "\n",
    "plt.figure(figsize=(20, 20))\n",
    "f, axarr = plt.subplots(1,2)\n",
    "axarr[0].imshow(test_img, cmap='gray')\n",
    "axarr[1].imshow(test_mask, cmap='gray')"
   ]
  },
  {
   "cell_type": "code",
   "execution_count": null,
   "id": "21c073c2",
   "metadata": {},
   "outputs": [],
   "source": [
    "t1 = Y_test.reshape(-1,)\n",
    "t2 = preds_test_thresh.reshape(-1,)\n",
    "\n",
    "from sklearn import metrics\n",
    "confusion_matrix = metrics.confusion_matrix(t1, t2)\n",
    "accurracy = metrics.accuracy_score(t1, t2)\n",
    "f1 = metrics.f1_score(t1, t2)\n",
    "precision = metrics.precision_score(t1, t2)\n",
    "recall = metrics.recall_score(t1, t2)\n",
    "IoU = metrics.jaccard_score(t1, t2)"
   ]
  },
  {
   "cell_type": "code",
   "execution_count": null,
   "id": "01873ab4",
   "metadata": {},
   "outputs": [],
   "source": [
    "# FPN - resnet18\n",
    "print('Confusion matrix: \\n', confusion_matrix)\n",
    "print('Accurracy:', accurracy)\n",
    "print('F1:', f1)\n",
    "print('Precision:', precision)\n",
    "print('Recall:', recall)\n",
    "print('IoU:', IoU)"
   ]
  },
  {
   "cell_type": "code",
   "execution_count": null,
   "id": "9157e5d3",
   "metadata": {},
   "outputs": [],
   "source": [
    "# U-Net - vgg16\n",
    "print('Confusion matrix: \\n', confusion_matrix)\n",
    "print('Accurracy:', accurracy)\n",
    "print('F1:', f1)\n",
    "print('Precision:', precision)\n",
    "print('Recall:', recall)\n",
    "print('IoU:', IoU)"
   ]
  },
  {
   "cell_type": "code",
   "execution_count": null,
   "id": "6695f9b3",
   "metadata": {},
   "outputs": [],
   "source": [
    "# Linknet - incep3\n",
    "print('Confusion matrix: \\n', confusion_matrix)\n",
    "print('Accurracy:', accurracy)\n",
    "print('F1:', f1)\n",
    "print('Precision:', precision)\n",
    "print('Recall:', recall)\n",
    "print('IoU:', IoU)"
   ]
  },
  {
   "cell_type": "code",
   "execution_count": null,
   "id": "9801ff7d-5e40-4f00-bd33-db2396bb4bc8",
   "metadata": {},
   "outputs": [],
   "source": [
    "# PSPNet - eff3\n",
    "print('Confusion matrix: \\n', confusion_matrix)\n",
    "print('Accurracy:', accurracy)\n",
    "print('F1:', f1)\n",
    "print('Precision:', precision)\n",
    "print('Recall:', recall)\n",
    "print('IoU:', IoU)"
   ]
  },
  {
   "cell_type": "code",
   "execution_count": null,
   "id": "b2096763-8347-479f-8338-608b832c6956",
   "metadata": {},
   "outputs": [],
   "source": [
    "def get_model_memory_usage(batch_size, model):\n",
    "    import numpy as np\n",
    "    try:\n",
    "        from keras import backend as K\n",
    "    except:\n",
    "        from tensorflow.keras import backend as K\n",
    "\n",
    "    shapes_mem_count = 0\n",
    "    internal_model_mem_count = 0\n",
    "    for l in model.layers:\n",
    "        layer_type = l.__class__.__name__\n",
    "        if layer_type == 'Model':\n",
    "            internal_model_mem_count += get_model_memory_usage(batch_size, l)\n",
    "        single_layer_mem = 1\n",
    "        out_shape = l.output_shape\n",
    "        if type(out_shape) is list:\n",
    "            out_shape = out_shape[0]\n",
    "        for s in out_shape:\n",
    "            if s is None:\n",
    "                continue\n",
    "            single_layer_mem *= s\n",
    "        shapes_mem_count += single_layer_mem\n",
    "\n",
    "    trainable_count = np.sum([K.count_params(p) for p in model.trainable_weights])\n",
    "    non_trainable_count = np.sum([K.count_params(p) for p in model.non_trainable_weights])\n",
    "\n",
    "    number_size = 4.0\n",
    "    if K.floatx() == 'float16':\n",
    "        number_size = 2.0\n",
    "    if K.floatx() == 'float64':\n",
    "        number_size = 8.0\n",
    "\n",
    "    total_memory = number_size * (batch_size * shapes_mem_count + trainable_count + non_trainable_count)\n",
    "    gbytes = np.round(total_memory / (1024.0 ** 3), 3) + internal_model_mem_count\n",
    "    return gbytes"
   ]
  },
  {
   "cell_type": "code",
   "execution_count": null,
   "id": "957bd579-f18e-448c-b981-57b0c686c01b",
   "metadata": {},
   "outputs": [],
   "source": [
    "print('FPN:', get_model_memory_usage(16, model), '13,815,370')"
   ]
  },
  {
   "cell_type": "code",
   "execution_count": null,
   "id": "30cb11ad-9872-45f2-bd07-f76b98643a71",
   "metadata": {},
   "outputs": [],
   "source": [
    "print('LinkNet:', get_model_memory_usage(16, model), '; 4,144,577')"
   ]
  },
  {
   "cell_type": "code",
   "execution_count": null,
   "id": "0f4e3953-ff7e-4979-a90a-77581a47da6a",
   "metadata": {},
   "outputs": [],
   "source": [
    "print('U-Net:', get_model_memory_usage(16, model), '23,752,273')"
   ]
  },
  {
   "cell_type": "code",
   "execution_count": null,
   "id": "dd880560-74d3-4cc0-a0ef-958333d69b58",
   "metadata": {},
   "outputs": [],
   "source": [
    "print('PSPNet:', get_model_memory_usage(1, model), '1,985,343')"
   ]
  }
 ],
 "metadata": {
  "kernelspec": {
   "display_name": "Python 3 (ipykernel)",
   "language": "python",
   "name": "python3"
  },
  "language_info": {
   "codemirror_mode": {
    "name": "ipython",
    "version": 3
   },
   "file_extension": ".py",
   "mimetype": "text/x-python",
   "name": "python",
   "nbconvert_exporter": "python",
   "pygments_lexer": "ipython3",
   "version": "3.8.15"
  }
 },
 "nbformat": 4,
 "nbformat_minor": 5
}
